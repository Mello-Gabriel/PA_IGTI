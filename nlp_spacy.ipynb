{
    "cells": [
        {
            "cell_type": "code",
            "execution_count": 70,
            "source": [
                "import spacy\r\n",
                "nlp=spacy.load('pt_core_news_lg')"
            ],
            "outputs": [],
            "metadata": {}
        },
        {
            "cell_type": "code",
            "execution_count": 71,
            "source": [
                "texto=open(r'C:\\Users\\18-01526\\OneDrive - Grupo CCR\\Documentos\\GitHub\\PA_IGTI\\text_files\\ccr.txt', encoding='utf-8').read()"
            ],
            "outputs": [],
            "metadata": {}
        },
        {
            "cell_type": "code",
            "execution_count": 72,
            "source": [
                "doc=nlp(texto)"
            ],
            "outputs": [],
            "metadata": {}
        },
        {
            "cell_type": "code",
            "execution_count": 74,
            "source": [
                "a=[sent for sent in doc.sents]\r\n",
                "b=[(token.text, token.pos_, token.lemma_) for token in a[0] if token.pos_ == 'NOUN']"
            ],
            "outputs": [],
            "metadata": {}
        }
    ],
    "metadata": {
        "orig_nbformat": 4,
        "language_info": {
            "name": "python",
            "version": "3.8.5",
            "mimetype": "text/x-python",
            "codemirror_mode": {
                "name": "ipython",
                "version": 3
            },
            "pygments_lexer": "ipython3",
            "nbconvert_exporter": "python",
            "file_extension": ".py"
        },
        "kernelspec": {
            "name": "python3",
            "display_name": "Python 3.8.5 64-bit ('base': conda)"
        },
        "interpreter": {
            "hash": "e9ef58cbfb1e8708cc004449518b9e0f1c907c85b3a83831c674ba868daddec0"
        }
    },
    "nbformat": 4,
    "nbformat_minor": 2
}